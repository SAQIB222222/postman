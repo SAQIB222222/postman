{
 "cells": [
  {
   "cell_type": "markdown",
   "id": "9a0ff191-ca1a-4102-bc9b-16cc6b3d3ab2",
   "metadata": {},
   "source": [
    "Q1. Explain GET and POST methods.\n",
    "\n",
    "Q2. Why is request used in Flask?\n",
    "\n",
    "Q3. Why is redirect() used in Flask?\n",
    "\n",
    "Q4. What are templates in Flask? Why is the render_template() function used?\n",
    "\n",
    "Q5. Create a simple API. Use Postman to test it. Attach the screenshot of the output in the Jupyter Notebook."
   ]
  },
  {
   "cell_type": "markdown",
   "id": "5560673b-c6db-4a4c-85ba-c385b4da4e98",
   "metadata": {},
   "source": [
    "Q1"
   ]
  },
  {
   "cell_type": "markdown",
   "id": "17f00d3b-fed0-4e87-8f9e-75e53c605806",
   "metadata": {},
   "source": [
    "GET and POST are two HTTP methods used to request and send data between a client and server.\n",
    "\n",
    "The GET method is used to request data from a specified resource, and it is a safe and idempotent method, which means that multiple identical requests will produce the same response. It is commonly used to retrieve data from a server and to display it to the user, for example, when a user opens a web page, their browser sends a GET request to the server to retrieve the HTML file that makes up the page.\n",
    "\n",
    "The POST method is used to submit an entity to the specified resource, often causing a change in the server's state. It is not a safe method, as it may cause side-effects, such as updating data in a database or adding a new resource. It is commonly used to send data to a server, for example, when a user fills out a form on a website and clicks submit, their browser sends a POST request to the server with the data from the form.\n",
    "\n"
   ]
  },
  {
   "cell_type": "markdown",
   "id": "324caaff-ad28-49e6-b37b-9d2e275eaddd",
   "metadata": {},
   "source": [
    "Q2"
   ]
  },
  {
   "cell_type": "markdown",
   "id": "358d891b-9585-4dd9-959f-3f06e10376f9",
   "metadata": {},
   "source": [
    "In Flask, the request object is used to access incoming request data, such as form data, query parameters, and HTTP headers. The request object allows developers to access this data and use it to generate responses or perform other actions based on the user's input.\n",
    "\n",
    "For example, if a user submits a form on a Flask website, the form data will be sent to the server in a POST request, and the request object can be used to access that data and process it in some way, such as saving it to a database or sending an email."
   ]
  },
  {
   "cell_type": "markdown",
   "id": "56427d1b-3907-4d2d-922e-aaa3f998136f",
   "metadata": {},
   "source": [
    "Q3"
   ]
  },
  {
   "cell_type": "markdown",
   "id": "61dfdecb-fcf9-4bd9-bb87-8657cbc1eac9",
   "metadata": {},
   "source": [
    "In Flask, the redirect() function is used to redirect the user's browser to a different URL. This can be useful in situations where the user needs to be redirected to a different page after performing an action, such as submitting a form or logging in.\n",
    "\n",
    "For example, after a user logs in to a Flask website, the server might redirect them to their profile page using redirect('/profile'). This helps to ensure that the user sees the correct page and avoids issues such as resubmitting data or navigating to an incorrect page.\n",
    "\n"
   ]
  },
  {
   "cell_type": "markdown",
   "id": "6cc2cd53-af27-4448-8570-221da06d0f51",
   "metadata": {},
   "source": [
    "Q4\n"
   ]
  },
  {
   "cell_type": "markdown",
   "id": "1e73a92f-4bbb-41e2-86fa-cecb7ef761cb",
   "metadata": {},
   "source": [
    "In Flask, templates are files that contain the HTML and dynamic content needed to generate a web page. They are used to separate the presentation layer from the business logic, making it easier to maintain and update the code.\n",
    "\n",
    "The render_template() function is used to render a template with data provided by the server. It takes the name of the template file and any data that should be passed to the template, and returns the rendered HTML that can be sent to the user's browser.\n",
    "\n",
    "For example, if a Flask website has a template file called index.html that contains a placeholder for a username, the server could use render_template('index.html', username='John') to render the template with the user's name and return the resulting HTML to the user's browser."
   ]
  },
  {
   "cell_type": "markdown",
   "id": "72bc7840-4cb0-4540-a18e-dcd39b8c5d91",
   "metadata": {},
   "source": [
    "Q5"
   ]
  },
  {
   "cell_type": "markdown",
   "id": "5ef009ce-3d2c-4146-8a46-2258e0bc3b84",
   "metadata": {},
   "source": [
    "![](saq.png)"
   ]
  },
  {
   "cell_type": "code",
   "execution_count": null,
   "id": "9ce88813-7912-4d66-af02-f4707fcecaa1",
   "metadata": {},
   "outputs": [],
   "source": []
  }
 ],
 "metadata": {
  "kernelspec": {
   "display_name": "Python 3 (ipykernel)",
   "language": "python",
   "name": "python3"
  },
  "language_info": {
   "codemirror_mode": {
    "name": "ipython",
    "version": 3
   },
   "file_extension": ".py",
   "mimetype": "text/x-python",
   "name": "python",
   "nbconvert_exporter": "python",
   "pygments_lexer": "ipython3",
   "version": "3.10.8"
  }
 },
 "nbformat": 4,
 "nbformat_minor": 5
}
